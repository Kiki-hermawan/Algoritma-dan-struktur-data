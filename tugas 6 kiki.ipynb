{
 "cells": [
  {
   "cell_type": "code",
   "execution_count": 1,
   "metadata": {},
   "outputs": [
    {
     "name": "stdout",
     "output_type": "stream",
     "text": [
      "apakah kamu lulus? [0-100]: 80\n"
     ]
    }
   ],
   "source": [
    "#kiki hermawan\n",
    "lulus = input(\"apakah kamu lulus? [0-100]: \")\n",
    "if lulus <= \"70\":\n",
    "    print(\"remidi\")"
   ]
  },
  {
   "cell_type": "code",
   "execution_count": 2,
   "metadata": {},
   "outputs": [
    {
     "name": "stdout",
     "output_type": "stream",
     "text": [
      "apakah kamu lulus? [0-100]: 50\n",
      "remidi\n"
     ]
    }
   ],
   "source": [
    "#kiki hermawan\n",
    "lulus = input(\"apakah kamu lulus? [0-100]: \")\n",
    "if lulus <= \"70\":\n",
    "    print(\"remidi\")"
   ]
  },
  {
   "cell_type": "code",
   "execution_count": 3,
   "metadata": {},
   "outputs": [
    {
     "name": "stdout",
     "output_type": "stream",
     "text": [
      "masukan jari-jari lingkaran300\n",
      "luas lingkaran :  282600\n",
      "lingkaran ini besar\n"
     ]
    }
   ],
   "source": [
    "jari = int(input(\"masukan jari-jari lingkaran\"))\n",
    "L = 3.14*jari*jari\n",
    "print(\"luas lingkaran : \", int(L))\n",
    "if L >= 314:\n",
    "    print (\"lingkaran ini besar\")\n",
    "else:\n",
    "    print (\"lingkaran ini kecil\")\n"
   ]
  },
  {
   "cell_type": "code",
   "execution_count": 4,
   "metadata": {},
   "outputs": [
    {
     "name": "stdout",
     "output_type": "stream",
     "text": [
      "masukan nomor program yang dipilih1\n",
      "masukan P : 12\n",
      "masukan l : 3\n",
      "masukan t : 2\n",
      "volume balok adalah 72\n"
     ]
    }
   ],
   "source": [
    "def volume_balok():\n",
    "    p = int(input(\"masukan P : \"))\n",
    "    l = int(input(\"masukan l : \"))\n",
    "    t = int(input(\"masukan t : \"))\n",
    "    vbalok = p*l*t\n",
    "    return vbalok\n",
    "\n",
    "def volume_kubus():\n",
    "    s = int(input(\"masukan sisi : \"))\n",
    "    vkubus = s*s*s\n",
    "    return vkubus\n",
    "angka = int(input(\"masukan nomor program yang dipilih\"))\n",
    "if angka ==1:\n",
    "    print (\"volume balok adalah\", volume_balok())\n",
    "elif angka ==2:\n",
    "    print (\"volume kubus adalah\", volume_kubus())"
   ]
  },
  {
   "cell_type": "code",
   "execution_count": null,
   "metadata": {},
   "outputs": [],
   "source": []
  }
 ],
 "metadata": {
  "kernelspec": {
   "display_name": "Python 3",
   "language": "python",
   "name": "python3"
  },
  "language_info": {
   "codemirror_mode": {
    "name": "ipython",
    "version": 3
   },
   "file_extension": ".py",
   "mimetype": "text/x-python",
   "name": "python",
   "nbconvert_exporter": "python",
   "pygments_lexer": "ipython3",
   "version": "3.8.3"
  }
 },
 "nbformat": 4,
 "nbformat_minor": 4
}
